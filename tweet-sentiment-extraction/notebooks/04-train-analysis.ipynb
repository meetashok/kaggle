{
 "cells": [
  {
   "cell_type": "code",
   "execution_count": 1,
   "metadata": {},
   "outputs": [],
   "source": [
    "import pandas as pd"
   ]
  },
  {
   "cell_type": "code",
   "execution_count": 24,
   "metadata": {},
   "outputs": [],
   "source": [
    "def jaccard_similarity(row):\n",
    "    string1, string2 = row.st_orig, row.st_pred\n",
    "    \n",
    "    wordset = lambda x: set(x.lower().split())\n",
    "    a, b = wordset(string1), wordset(string2)\n",
    "\n",
    "    c = a.intersection(b)\n",
    "\n",
    "    return float(len(c)) / (len(a) + len(b) - len(c))\n",
    "\n",
    "def string_length(s):\n",
    "    return len(s)\n",
    "\n",
    "def num_words(s):\n",
    "    return len(s.split())"
   ]
  },
  {
   "cell_type": "code",
   "execution_count": 40,
   "metadata": {},
   "outputs": [],
   "source": [
    "train = pd.read_csv(\"../data/train.csv\")\n",
    "submission = pd.read_csv(\"../roberta/submission_2020.05.10.00.16.csv\")\n",
    "merged = (train\n",
    "          .merge(submission, on=\"textID\")\n",
    "          .rename({\"selected_text_x\": \"st_orig\", \"selected_text_y\": \"st_pred\"}, axis=\"columns\")\n",
    "          .assign(\n",
    "              text=lambda x: x.text.str.lower(),\n",
    "              st_orig=lambda x: x.st_orig.str.lower(),\n",
    "              st_pred=lambda x: x.st_pred.str.lower(),\n",
    "              jaccard=lambda x: x.apply(jaccard_similarity, axis=1),\n",
    "              text_len=lambda x: x.text.apply(string_length),\n",
    "              st_orig_len=lambda x: x.st_orig.apply(string_length),\n",
    "              st_pred_len=lambda x: x.st_pred.apply(string_length),\n",
    "              text_words=lambda x: x.text.apply(num_words),\n",
    "              st_orig_words=lambda x: x.st_orig.apply(num_words),\n",
    "              st_pred_words=lambda x: x.st_pred.apply(num_words),\n",
    "          )\n",
    "         )"
   ]
  },
  {
   "cell_type": "code",
   "execution_count": 42,
   "metadata": {},
   "outputs": [],
   "source": [
    "merged.to_csv(\"train_merged.csv\", index=False)"
   ]
  },
  {
   "cell_type": "code",
   "execution_count": null,
   "metadata": {},
   "outputs": [],
   "source": []
  }
 ],
 "metadata": {
  "kernelspec": {
   "display_name": "Python 3.7.7 64-bit ('kaggle-sentiment': conda)",
   "language": "python",
   "name": "python37764bitkagglesentimentconda0ebf287fb1034a3d95078f1073b838d3"
  },
  "language_info": {
   "codemirror_mode": {
    "name": "ipython",
    "version": 3
   },
   "file_extension": ".py",
   "mimetype": "text/x-python",
   "name": "python",
   "nbconvert_exporter": "python",
   "pygments_lexer": "ipython3",
   "version": "3.7.7"
  }
 },
 "nbformat": 4,
 "nbformat_minor": 4
}
